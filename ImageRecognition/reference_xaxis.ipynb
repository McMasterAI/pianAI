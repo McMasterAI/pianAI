{
 "cells": [
  {
   "cell_type": "code",
   "execution_count": 1,
   "metadata": {},
   "outputs": [
    {
     "name": "stdout",
     "output_type": "stream",
     "text": [
      "Defaulting to user installation because normal site-packages is not writeable\n",
      "Requirement already satisfied: mediapipe in /Users/Nicole/Library/Python/3.10/lib/python/site-packages (0.10.0)\n",
      "Requirement already satisfied: opencv-python in /Users/Nicole/Library/Python/3.10/lib/python/site-packages (4.8.1.78)\n",
      "Requirement already satisfied: absl-py in /Users/Nicole/Library/Python/3.10/lib/python/site-packages (from mediapipe) (2.0.0)\n",
      "Requirement already satisfied: attrs>=19.1.0 in /Users/Nicole/Library/Python/3.10/lib/python/site-packages (from mediapipe) (22.1.0)\n",
      "Requirement already satisfied: flatbuffers>=2.0 in /Users/Nicole/Library/Python/3.10/lib/python/site-packages (from mediapipe) (23.5.26)\n",
      "Requirement already satisfied: matplotlib in /Users/Nicole/Library/Python/3.10/lib/python/site-packages (from mediapipe) (3.8.1)\n",
      "Requirement already satisfied: numpy in /Users/Nicole/Library/Python/3.10/lib/python/site-packages (from mediapipe) (1.26.2)\n",
      "Requirement already satisfied: opencv-contrib-python in /Users/Nicole/Library/Python/3.10/lib/python/site-packages (from mediapipe) (4.8.1.78)\n",
      "Requirement already satisfied: protobuf<4,>=3.11 in /Users/Nicole/Library/Python/3.10/lib/python/site-packages (from mediapipe) (3.20.3)\n",
      "Requirement already satisfied: sounddevice>=0.4.4 in /Users/Nicole/Library/Python/3.10/lib/python/site-packages (from mediapipe) (0.4.6)\n",
      "Requirement already satisfied: CFFI>=1.0 in /Users/Nicole/Library/Python/3.10/lib/python/site-packages (from sounddevice>=0.4.4->mediapipe) (1.15.1)\n",
      "Requirement already satisfied: contourpy>=1.0.1 in /Users/Nicole/Library/Python/3.10/lib/python/site-packages (from matplotlib->mediapipe) (1.2.0)\n",
      "Requirement already satisfied: cycler>=0.10 in /Users/Nicole/Library/Python/3.10/lib/python/site-packages (from matplotlib->mediapipe) (0.12.1)\n",
      "Requirement already satisfied: fonttools>=4.22.0 in /Users/Nicole/Library/Python/3.10/lib/python/site-packages (from matplotlib->mediapipe) (4.44.3)\n",
      "Requirement already satisfied: kiwisolver>=1.3.1 in /Users/Nicole/Library/Python/3.10/lib/python/site-packages (from matplotlib->mediapipe) (1.4.5)\n",
      "Requirement already satisfied: packaging>=20.0 in /Users/Nicole/Library/Python/3.10/lib/python/site-packages (from matplotlib->mediapipe) (21.3)\n",
      "Requirement already satisfied: pillow>=8 in /Users/Nicole/Library/Python/3.10/lib/python/site-packages (from matplotlib->mediapipe) (10.1.0)\n",
      "Requirement already satisfied: pyparsing>=2.3.1 in /Users/Nicole/Library/Python/3.10/lib/python/site-packages (from matplotlib->mediapipe) (3.0.9)\n",
      "Requirement already satisfied: python-dateutil>=2.7 in /Users/Nicole/Library/Python/3.10/lib/python/site-packages (from matplotlib->mediapipe) (2.8.2)\n",
      "Requirement already satisfied: pycparser in /Users/Nicole/Library/Python/3.10/lib/python/site-packages (from CFFI>=1.0->sounddevice>=0.4.4->mediapipe) (2.21)\n",
      "Requirement already satisfied: six>=1.5 in /Users/Nicole/Library/Python/3.10/lib/python/site-packages (from python-dateutil>=2.7->matplotlib->mediapipe) (1.16.0)\n"
     ]
    }
   ],
   "source": [
    "# Install required libraries\n",
    "!pip install mediapipe opencv-python\n",
    "\n",
    "# Import libraries\n",
    "import cv2\n",
    "import mediapipe as mp\n",
    "from threading import Thread\n",
    "\n"
   ]
  },
  {
   "cell_type": "code",
   "execution_count": 2,
   "metadata": {},
   "outputs": [
    {
     "name": "stderr",
     "output_type": "stream",
     "text": [
      "INFO: Created TensorFlow Lite XNNPACK delegate for CPU.\n"
     ]
    }
   ],
   "source": [
    "# Initialize MediaPipe hands module\n",
    "mp_hands = mp.solutions.hands\n",
    "hands = mp_hands.Hands()"
   ]
  },
  {
   "cell_type": "code",
   "execution_count": 1,
   "metadata": {},
   "outputs": [
    {
     "name": "stderr",
     "output_type": "stream",
     "text": [
      "INFO: Created TensorFlow Lite XNNPACK delegate for CPU.\n"
     ]
    }
   ],
   "source": [
    "import cv2\n",
    "import mediapipe as mp\n",
    "\n",
    "\n",
    "# Function to preprocess the frame and detect piano keys\n",
    "def detect_piano_keys(frame):\n",
    "    # Convert the frame to grayscale\n",
    "    gray = cv2.cvtColor(frame, cv2.COLOR_BGR2GRAY)\n",
    "\n",
    "    # Apply GaussianBlur to reduce noise and help with edge detection\n",
    "    blurred = cv2.GaussianBlur(gray, (5, 5), 0)\n",
    "\n",
    "    # Use Canny edge detector to find edges\n",
    "    edges = cv2.Canny(blurred, 50, 150)\n",
    "\n",
    "    # Find contours in the edged image\n",
    "    contours, _ = cv2.findContours(edges.copy(), cv2.RETR_EXTERNAL, cv2.CHAIN_APPROX_SIMPLE)\n",
    "\n",
    "    # Get the height and width of the frame\n",
    "    height, width, _ = frame.shape\n",
    "\n",
    "    # Define the region corresponding to the piano keyboard\n",
    "    piano_keyboard_region = [0, int(height * 0.7), width, height]\n",
    "\n",
    "    # Draw rectangles around the detected contours within the piano keyboard region\n",
    "    for contour in contours:\n",
    "        x, y, w, h = cv2.boundingRect(contour)\n",
    "        # Check if the contour is within the piano keyboard region\n",
    "        if piano_keyboard_region[0] <= x <= piano_keyboard_region[2] and \\\n",
    "           piano_keyboard_region[1] <= y <= piano_keyboard_region[3]:\n",
    "            cv2.rectangle(frame, (x, y), (x + w, y + h), (0, 255, 0), 2)\n",
    "\n",
    "    return frame\n",
    "\n",
    "\n",
    "# Function to process webcam frames\n",
    "def process_webcam():\n",
    "    # Open the webcam\n",
    "    cap = cv2.VideoCapture(0)  # 0 corresponds to the default webcam\n",
    "\n",
    "    # Initialize MediaPipe hands\n",
    "    mp_hands = mp.solutions.hands\n",
    "    hands = mp_hands.Hands()\n",
    "\n",
    "    while cap.isOpened():\n",
    "        # Read a frame from the webcam\n",
    "        ret, frame = cap.read()\n",
    "        if not ret:\n",
    "            break\n",
    "\n",
    "        # Convert the frame to RGB\n",
    "        frame_rgb = cv2.cvtColor(frame, cv2.COLOR_BGR2RGB)\n",
    "\n",
    "        # Process the frame with MediaPipe hands\n",
    "        results = hands.process(frame_rgb)\n",
    "\n",
    "        # If hands are detected, draw landmarks on the frame\n",
    "        if results.multi_hand_landmarks:\n",
    "            for landmarks in results.multi_hand_landmarks:\n",
    "                # Draw landmarks\n",
    "                mp.solutions.drawing_utils.draw_landmarks(frame, landmarks, mp_hands.HAND_CONNECTIONS)\n",
    "\n",
    "                # Get landmarks' coordinates\n",
    "                for idx, landmark in enumerate(landmarks.landmark):\n",
    "                    height, width, _ = frame.shape\n",
    "                    cx, cy = int(landmark.x * width), int(landmark.y * height)\n",
    "\n",
    "                    # Draw circles at the tips and proximal phalanges\n",
    "                    if idx in [mp_hands.HandLandmark.MIDDLE_FINGER_TIP.value,\n",
    "                               mp_hands.HandLandmark.MIDDLE_FINGER_PIP.value]:\n",
    "                        cv2.circle(frame, (cx, cy), 5, (255, 0, 0), cv2.FILLED)\n",
    "\n",
    "                        # Draw X and Y axes\n",
    "                        cv2.line(frame, (0, cy), (width, cy), (255, 0, 0), 2)  # Draw horizontal line (X axis)\n",
    "\n",
    "                        # Check if the Y-axis of the tip is close to the Y-axis of the PIP\n",
    "                        y_tip = landmarks.landmark[mp_hands.HandLandmark.MIDDLE_FINGER_TIP.value].y\n",
    "                        y_pip = landmarks.landmark[mp_hands.HandLandmark.MIDDLE_FINGER_PIP.value].y\n",
    "\n",
    "                        # Set a small range for the check\n",
    "                        y_range = 0.218\n",
    "\n",
    "                        if abs(y_tip - y_pip) > y_range:\n",
    "                            # Display a warning if the hand is flat\n",
    "                            warning_text = \"Hand is flat!\"\n",
    "                            text_size = 2  # Increase text size\n",
    "\n",
    "                            # Display text at the top right corner\n",
    "                            cv2.putText(frame, warning_text, (width - 600, 100), cv2.FONT_HERSHEY_SIMPLEX,\n",
    "                                        text_size, (0, 0, 255), 2, cv2.LINE_AA)\n",
    "\n",
    "        # Detect piano keys\n",
    "        result_frame = detect_piano_keys(frame)\n",
    "\n",
    "        # Display the frame with landmarks and piano keys\n",
    "        cv2.imshow('Hand Tracking and Piano Key Detection', result_frame)\n",
    "\n",
    "        # Break the loop if 'q' is pressed\n",
    "        if cv2.waitKey(1) & 0xFF == ord('q'):\n",
    "            break\n",
    "\n",
    "    # Release the webcam capture object\n",
    "    cap.release()\n",
    "    cv2.destroyAllWindows()\n",
    "\n",
    "# Call the function to process the webcam frames\n",
    "process_webcam()\n"
   ]
  },
  {
   "cell_type": "code",
   "execution_count": 29,
   "metadata": {},
   "outputs": [
    {
     "ename": "KeyboardInterrupt",
     "evalue": "",
     "output_type": "error",
     "traceback": [
      "\u001b[0;31m---------------------------------------------------------------------------\u001b[0m",
      "\u001b[0;31mKeyboardInterrupt\u001b[0m                         Traceback (most recent call last)",
      "\u001b[1;32m/Users/Nicole/Desktop/macAI/reference_xaxis.ipynb Cell 4\u001b[0m in \u001b[0;36m2\n\u001b[1;32m      <a href='vscode-notebook-cell:/Users/Nicole/Desktop/macAI/reference_xaxis.ipynb#W3sZmlsZQ%3D%3D?line=0'>1</a>\u001b[0m \u001b[39m# Call the function to process the webcam frames\u001b[39;00m\n\u001b[0;32m----> <a href='vscode-notebook-cell:/Users/Nicole/Desktop/macAI/reference_xaxis.ipynb#W3sZmlsZQ%3D%3D?line=1'>2</a>\u001b[0m process_webcam()\n",
      "\u001b[1;32m/Users/Nicole/Desktop/macAI/reference_xaxis.ipynb Cell 4\u001b[0m in \u001b[0;36m1\n\u001b[1;32m     <a href='vscode-notebook-cell:/Users/Nicole/Desktop/macAI/reference_xaxis.ipynb#W3sZmlsZQ%3D%3D?line=12'>13</a>\u001b[0m frame_rgb \u001b[39m=\u001b[39m cv2\u001b[39m.\u001b[39mcvtColor(frame, cv2\u001b[39m.\u001b[39mCOLOR_BGR2RGB)\n\u001b[1;32m     <a href='vscode-notebook-cell:/Users/Nicole/Desktop/macAI/reference_xaxis.ipynb#W3sZmlsZQ%3D%3D?line=14'>15</a>\u001b[0m \u001b[39m# Process the frame with MediaPipe hands\u001b[39;00m\n\u001b[0;32m---> <a href='vscode-notebook-cell:/Users/Nicole/Desktop/macAI/reference_xaxis.ipynb#W3sZmlsZQ%3D%3D?line=15'>16</a>\u001b[0m results \u001b[39m=\u001b[39m hands\u001b[39m.\u001b[39;49mprocess(frame_rgb)\n\u001b[1;32m     <a href='vscode-notebook-cell:/Users/Nicole/Desktop/macAI/reference_xaxis.ipynb#W3sZmlsZQ%3D%3D?line=17'>18</a>\u001b[0m \u001b[39m# If hands are detected, draw landmarks on the frame\u001b[39;00m\n\u001b[1;32m     <a href='vscode-notebook-cell:/Users/Nicole/Desktop/macAI/reference_xaxis.ipynb#W3sZmlsZQ%3D%3D?line=18'>19</a>\u001b[0m \u001b[39mif\u001b[39;00m results\u001b[39m.\u001b[39mmulti_hand_landmarks:\n",
      "File \u001b[0;32m~/Library/Python/3.10/lib/python/site-packages/mediapipe/python/solutions/hands.py:153\u001b[0m, in \u001b[0;36mHands.process\u001b[0;34m(self, image)\u001b[0m\n\u001b[1;32m    132\u001b[0m \u001b[39mdef\u001b[39;00m \u001b[39mprocess\u001b[39m(\u001b[39mself\u001b[39m, image: np\u001b[39m.\u001b[39mndarray) \u001b[39m-\u001b[39m\u001b[39m>\u001b[39m NamedTuple:\n\u001b[1;32m    133\u001b[0m   \u001b[39m\"\"\"Processes an RGB image and returns the hand landmarks and handedness of each detected hand.\u001b[39;00m\n\u001b[1;32m    134\u001b[0m \n\u001b[1;32m    135\u001b[0m \u001b[39m  Args:\u001b[39;00m\n\u001b[0;32m   (...)\u001b[0m\n\u001b[1;32m    150\u001b[0m \u001b[39m         right hand) of the detected hand.\u001b[39;00m\n\u001b[1;32m    151\u001b[0m \u001b[39m  \"\"\"\u001b[39;00m\n\u001b[0;32m--> 153\u001b[0m   \u001b[39mreturn\u001b[39;00m \u001b[39msuper\u001b[39;49m()\u001b[39m.\u001b[39;49mprocess(input_data\u001b[39m=\u001b[39;49m{\u001b[39m'\u001b[39;49m\u001b[39mimage\u001b[39;49m\u001b[39m'\u001b[39;49m: image})\n",
      "File \u001b[0;32m~/Library/Python/3.10/lib/python/site-packages/mediapipe/python/solution_base.py:365\u001b[0m, in \u001b[0;36mSolutionBase.process\u001b[0;34m(self, input_data)\u001b[0m\n\u001b[1;32m    359\u001b[0m   \u001b[39melse\u001b[39;00m:\n\u001b[1;32m    360\u001b[0m     \u001b[39mself\u001b[39m\u001b[39m.\u001b[39m_graph\u001b[39m.\u001b[39madd_packet_to_input_stream(\n\u001b[1;32m    361\u001b[0m         stream\u001b[39m=\u001b[39mstream_name,\n\u001b[1;32m    362\u001b[0m         packet\u001b[39m=\u001b[39m\u001b[39mself\u001b[39m\u001b[39m.\u001b[39m_make_packet(input_stream_type,\n\u001b[1;32m    363\u001b[0m                                  data)\u001b[39m.\u001b[39mat(\u001b[39mself\u001b[39m\u001b[39m.\u001b[39m_simulated_timestamp))\n\u001b[0;32m--> 365\u001b[0m \u001b[39mself\u001b[39;49m\u001b[39m.\u001b[39;49m_graph\u001b[39m.\u001b[39;49mwait_until_idle()\n\u001b[1;32m    366\u001b[0m \u001b[39m# Create a NamedTuple object where the field names are mapping to the graph\u001b[39;00m\n\u001b[1;32m    367\u001b[0m \u001b[39m# output stream names.\u001b[39;00m\n\u001b[1;32m    368\u001b[0m solution_outputs \u001b[39m=\u001b[39m collections\u001b[39m.\u001b[39mnamedtuple(\n\u001b[1;32m    369\u001b[0m     \u001b[39m'\u001b[39m\u001b[39mSolutionOutputs\u001b[39m\u001b[39m'\u001b[39m, \u001b[39mself\u001b[39m\u001b[39m.\u001b[39m_output_stream_type_info\u001b[39m.\u001b[39mkeys())\n",
      "\u001b[0;31mKeyboardInterrupt\u001b[0m: "
     ]
    }
   ],
   "source": [
    "# Call the function to process the webcam frames\n",
    "process_webcam()"
   ]
  }
 ],
 "metadata": {
  "kernelspec": {
   "display_name": "Python 3",
   "language": "python",
   "name": "python3"
  },
  "language_info": {
   "codemirror_mode": {
    "name": "ipython",
    "version": 3
   },
   "file_extension": ".py",
   "mimetype": "text/x-python",
   "name": "python",
   "nbconvert_exporter": "python",
   "pygments_lexer": "ipython3",
   "version": "3.10.4"
  }
 },
 "nbformat": 4,
 "nbformat_minor": 2
}
