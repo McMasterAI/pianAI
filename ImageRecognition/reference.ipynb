{
 "cells": [
  {
   "cell_type": "code",
   "execution_count": 3,
   "metadata": {},
   "outputs": [
    {
     "name": "stdout",
     "output_type": "stream",
     "text": [
      "Requirement already satisfied: mediapipe in /Users/tomoverall/.pyenv/versions/3.9.16/lib/python3.9/site-packages (0.10.0)\n",
      "Requirement already satisfied: opencv-python in /Users/tomoverall/.pyenv/versions/3.9.16/lib/python3.9/site-packages (4.8.1.78)\n",
      "Requirement already satisfied: absl-py in /Users/tomoverall/.pyenv/versions/3.9.16/lib/python3.9/site-packages (from mediapipe) (2.0.0)\n",
      "Requirement already satisfied: sounddevice>=0.4.4 in /Users/tomoverall/.pyenv/versions/3.9.16/lib/python3.9/site-packages (from mediapipe) (0.4.6)\n",
      "Requirement already satisfied: flatbuffers>=2.0 in /Users/tomoverall/.pyenv/versions/3.9.16/lib/python3.9/site-packages (from mediapipe) (23.5.26)\n",
      "Requirement already satisfied: attrs>=19.1.0 in /Users/tomoverall/.pyenv/versions/3.9.16/lib/python3.9/site-packages (from mediapipe) (22.2.0)\n",
      "Requirement already satisfied: opencv-contrib-python in /Users/tomoverall/.pyenv/versions/3.9.16/lib/python3.9/site-packages (from mediapipe) (4.8.1.78)\n",
      "Requirement already satisfied: matplotlib in /Users/tomoverall/.pyenv/versions/3.9.16/lib/python3.9/site-packages (from mediapipe) (3.8.1)\n",
      "Requirement already satisfied: numpy in /Users/tomoverall/.pyenv/versions/3.9.16/lib/python3.9/site-packages (from mediapipe) (1.26.2)\n",
      "Requirement already satisfied: protobuf<4,>=3.11 in /Users/tomoverall/.pyenv/versions/3.9.16/lib/python3.9/site-packages (from mediapipe) (3.20.3)\n",
      "Requirement already satisfied: CFFI>=1.0 in /Users/tomoverall/.pyenv/versions/3.9.16/lib/python3.9/site-packages (from sounddevice>=0.4.4->mediapipe) (1.15.1)\n",
      "Requirement already satisfied: pillow>=8 in /Users/tomoverall/.pyenv/versions/3.9.16/lib/python3.9/site-packages (from matplotlib->mediapipe) (10.1.0)\n",
      "Requirement already satisfied: contourpy>=1.0.1 in /Users/tomoverall/.pyenv/versions/3.9.16/lib/python3.9/site-packages (from matplotlib->mediapipe) (1.2.0)\n",
      "Requirement already satisfied: fonttools>=4.22.0 in /Users/tomoverall/.pyenv/versions/3.9.16/lib/python3.9/site-packages (from matplotlib->mediapipe) (4.44.3)\n",
      "Requirement already satisfied: importlib-resources>=3.2.0 in /Users/tomoverall/.pyenv/versions/3.9.16/lib/python3.9/site-packages (from matplotlib->mediapipe) (6.1.1)\n",
      "Requirement already satisfied: python-dateutil>=2.7 in /Users/tomoverall/.pyenv/versions/3.9.16/lib/python3.9/site-packages (from matplotlib->mediapipe) (2.8.2)\n",
      "Requirement already satisfied: packaging>=20.0 in /Users/tomoverall/.pyenv/versions/3.9.16/lib/python3.9/site-packages (from matplotlib->mediapipe) (23.0)\n",
      "Requirement already satisfied: pyparsing>=2.3.1 in /Users/tomoverall/.pyenv/versions/3.9.16/lib/python3.9/site-packages (from matplotlib->mediapipe) (3.1.1)\n",
      "Requirement already satisfied: kiwisolver>=1.3.1 in /Users/tomoverall/.pyenv/versions/3.9.16/lib/python3.9/site-packages (from matplotlib->mediapipe) (1.4.5)\n",
      "Requirement already satisfied: cycler>=0.10 in /Users/tomoverall/.pyenv/versions/3.9.16/lib/python3.9/site-packages (from matplotlib->mediapipe) (0.12.1)\n",
      "Requirement already satisfied: pycparser in /Users/tomoverall/.pyenv/versions/3.9.16/lib/python3.9/site-packages (from CFFI>=1.0->sounddevice>=0.4.4->mediapipe) (2.21)\n",
      "Requirement already satisfied: zipp>=3.1.0 in /Users/tomoverall/.pyenv/versions/3.9.16/lib/python3.9/site-packages (from importlib-resources>=3.2.0->matplotlib->mediapipe) (3.14.0)\n",
      "Requirement already satisfied: six>=1.5 in /Users/tomoverall/.pyenv/versions/3.9.16/lib/python3.9/site-packages (from python-dateutil>=2.7->matplotlib->mediapipe) (1.16.0)\n",
      "\n",
      "\u001b[1m[\u001b[0m\u001b[34;49mnotice\u001b[0m\u001b[1;39;49m]\u001b[0m\u001b[39;49m A new release of pip available: \u001b[0m\u001b[31;49m22.3.1\u001b[0m\u001b[39;49m -> \u001b[0m\u001b[32;49m23.3.1\u001b[0m\n",
      "\u001b[1m[\u001b[0m\u001b[34;49mnotice\u001b[0m\u001b[1;39;49m]\u001b[0m\u001b[39;49m To update, run: \u001b[0m\u001b[32;49mpip install --upgrade pip\u001b[0m\n"
     ]
    }
   ],
   "source": [
    "# Install required libraries\n",
    "!pip install mediapipe opencv-python\n",
    "\n",
    "# Import libraries\n",
    "import cv2\n",
    "import mediapipe as mp"
   ]
  },
  {
   "cell_type": "code",
   "execution_count": 4,
   "metadata": {},
   "outputs": [],
   "source": [
    "# Initialize MediaPipe hands module\n",
    "mp_hands = mp.solutions.hands\n",
    "hands = mp_hands.Hands()"
   ]
  },
  {
   "cell_type": "code",
   "execution_count": 5,
   "metadata": {},
   "outputs": [],
   "source": [
    "# Function to process webcam frames\n",
    "def process_webcam():\n",
    "    # Open the webcam\n",
    "    cap = cv2.VideoCapture(0)  # 0 corresponds to the default webcam\n",
    "\n",
    "    while cap.isOpened():\n",
    "        # Read a frame from the webcam\n",
    "        ret, frame = cap.read()\n",
    "        if not ret:\n",
    "            break\n",
    "\n",
    "        # Convert the frame to RGB\n",
    "        frame_rgb = cv2.cvtColor(frame, cv2.COLOR_BGR2RGB)\n",
    "\n",
    "        # Process the frame with MediaPipe hands\n",
    "        results = hands.process(frame_rgb)\n",
    "\n",
    "        # If hands are detected, draw landmarks on the frame\n",
    "        if results.multi_hand_landmarks:\n",
    "            for landmarks in results.multi_hand_landmarks:\n",
    "                # Use new syntax for drawing landmarks\n",
    "                mp.solutions.drawing_utils.draw_landmarks(frame, landmarks, mp_hands.HAND_CONNECTIONS)\n",
    "\n",
    "        # Display the frame with landmarks\n",
    "        cv2.imshow('Hand Tracking', frame)\n",
    "\n",
    "        # Break the loop if 'q' is pressed\n",
    "        if cv2.waitKey(1) & 0xFF == ord('q'):\n",
    "            break\n",
    "\n",
    "    # Release the webcam capture object\n",
    "    cap.release()\n",
    "    cv2.destroyAllWindows()"
   ]
  },
  {
   "cell_type": "code",
   "execution_count": 6,
   "metadata": {},
   "outputs": [
    {
     "name": "stderr",
     "output_type": "stream",
     "text": [
      "INFO: Created TensorFlow Lite XNNPACK delegate for CPU.\n"
     ]
    }
   ],
   "source": [
    "# Call the function to process the webcam frames\n",
    "process_webcam()"
   ]
  }
 ],
 "metadata": {
  "kernelspec": {
   "display_name": "Python 3",
   "language": "python",
   "name": "python3"
  },
  "language_info": {
   "codemirror_mode": {
    "name": "ipython",
    "version": 3
   },
   "file_extension": ".py",
   "mimetype": "text/x-python",
   "name": "python",
   "nbconvert_exporter": "python",
   "pygments_lexer": "ipython3",
   "version": "3.9.16"
  }
 },
 "nbformat": 4,
 "nbformat_minor": 2
}
